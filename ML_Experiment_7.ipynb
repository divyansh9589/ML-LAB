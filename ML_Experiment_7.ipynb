{
  "nbformat": 4,
  "nbformat_minor": 0,
  "metadata": {
    "colab": {
      "provenance": [],
      "toc_visible": true,
      "authorship_tag": "ABX9TyOhNOKPwDUfTmI780Q85eDP",
      "include_colab_link": true
    },
    "kernelspec": {
      "name": "python3",
      "display_name": "Python 3"
    },
    "language_info": {
      "name": "python"
    }
  },
  "cells": [
    {
      "cell_type": "markdown",
      "metadata": {
        "id": "view-in-github",
        "colab_type": "text"
      },
      "source": [
        "<a href=\"https://colab.research.google.com/github/divyansh9589/ML-LAB/blob/main/ML_Experiment_7.ipynb\" target=\"_parent\"><img src=\"https://colab.research.google.com/assets/colab-badge.svg\" alt=\"Open In Colab\"/></a>"
      ]
    },
    {
      "cell_type": "code",
      "source": [
        "from keras.datasets import mnist\n",
        "(train_images, train_labels), (test_images, test_labels) = mnist.load_data()\n"
      ],
      "metadata": {
        "id": "AD02B5PNl4rS"
      },
      "execution_count": 13,
      "outputs": []
    },
    {
      "cell_type": "code",
      "source": [
        "train_images.shape\n",
        "len(train_labels)\n",
        "train_labels\n",
        "test_images.shape\n",
        "len(test_labels)\n",
        "test_labels\n"
      ],
      "metadata": {
        "colab": {
          "base_uri": "https://localhost:8080/"
        },
        "id": "wU_GJ04il-gy",
        "outputId": "f6b3f675-322d-4aac-ba98-2a7603674141"
      },
      "execution_count": 14,
      "outputs": [
        {
          "output_type": "execute_result",
          "data": {
            "text/plain": [
              "array([7, 2, 1, ..., 4, 5, 6], dtype=uint8)"
            ]
          },
          "metadata": {},
          "execution_count": 14
        }
      ]
    },
    {
      "cell_type": "code",
      "source": [
        "from keras import models\n",
        "from keras import layers\n",
        "network = models.Sequential()\n",
        "# Dense(32) is a fully-connected layer with 32 hidden units.\n",
        "# in the first layer, you must specify the expected input data shape :\n",
        "# here, 28 X 28=784 -dimensional vectors.\n",
        "network.add(layers.Dense(32, activation='sigmoid', input_shape=(28 * 28, )))\n",
        "network.add(layers.Dense(8, activation='sigmoid'))\n",
        "network.add(layers.Dense(10, activation='softmax'))\n",
        "network.summary()\n",
        "from google.colab import drive\n",
        "drive.mount('/content/drive')\n"
      ],
      "metadata": {
        "colab": {
          "base_uri": "https://localhost:8080/"
        },
        "id": "zN3P2ia0mEjp",
        "outputId": "a553b46f-e009-4cd3-d6ef-552f9e4fd7d1"
      },
      "execution_count": 15,
      "outputs": [
        {
          "output_type": "stream",
          "name": "stdout",
          "text": [
            "Model: \"sequential_2\"\n",
            "_________________________________________________________________\n",
            " Layer (type)                Output Shape              Param #   \n",
            "=================================================================\n",
            " dense_6 (Dense)             (None, 32)                25120     \n",
            "                                                                 \n",
            " dense_7 (Dense)             (None, 8)                 264       \n",
            "                                                                 \n",
            " dense_8 (Dense)             (None, 10)                90        \n",
            "                                                                 \n",
            "=================================================================\n",
            "Total params: 25,474\n",
            "Trainable params: 25,474\n",
            "Non-trainable params: 0\n",
            "_________________________________________________________________\n",
            "Drive already mounted at /content/drive; to attempt to forcibly remount, call drive.mount(\"/content/drive\", force_remount=True).\n"
          ]
        }
      ]
    },
    {
      "cell_type": "code",
      "source": [
        "network.compile(optimizer='sgd',\n",
        "                loss='categorical_crossentropy',\n",
        "                metrics=['accuracy'])\n"
      ],
      "metadata": {
        "id": "yLUKo_ONmIQZ"
      },
      "execution_count": 16,
      "outputs": []
    },
    {
      "cell_type": "code",
      "source": [
        "train_images = train_images.reshape((60000, 28 * 28))\n",
        "train_images = train_images.astype('float32') / 255.\n",
        "test_images = test_images.reshape((10000, 28 * 28))\n",
        "test_images = test_images.astype('float32') / 255.\n"
      ],
      "metadata": {
        "id": "eVR5bCFNmLWa"
      },
      "execution_count": 17,
      "outputs": []
    },
    {
      "cell_type": "code",
      "source": [
        "from keras.utils import to_categorical\n",
        "train_labels = to_categorical(train_labels)\n",
        "train_labels\n",
        "test_labels = to_categorical(test_labels)\n",
        "test_labels\n"
      ],
      "metadata": {
        "colab": {
          "base_uri": "https://localhost:8080/"
        },
        "id": "kTZdOEcAmNax",
        "outputId": "aae1b479-d96b-4a6e-b116-ce2952a11b01"
      },
      "execution_count": 18,
      "outputs": [
        {
          "output_type": "execute_result",
          "data": {
            "text/plain": [
              "array([[0., 0., 0., ..., 1., 0., 0.],\n",
              "       [0., 0., 1., ..., 0., 0., 0.],\n",
              "       [0., 1., 0., ..., 0., 0., 0.],\n",
              "       ...,\n",
              "       [0., 0., 0., ..., 0., 0., 0.],\n",
              "       [0., 0., 0., ..., 0., 0., 0.],\n",
              "       [0., 0., 0., ..., 0., 0., 0.]], dtype=float32)"
            ]
          },
          "metadata": {},
          "execution_count": 18
        }
      ]
    },
    {
      "cell_type": "code",
      "source": [
        "network.fit(train_images, train_labels, epochs=160, batch_size=512)"
      ],
      "metadata": {
        "colab": {
          "base_uri": "https://localhost:8080/"
        },
        "id": "JFgUG08ImQPK",
        "outputId": "3b797922-3d21-4244-db0f-cba03ad02343"
      },
      "execution_count": 19,
      "outputs": [
        {
          "output_type": "stream",
          "name": "stdout",
          "text": [
            "Epoch 1/160\n",
            "118/118 [==============================] - 1s 5ms/step - loss: 2.3508 - accuracy: 0.0975\n",
            "Epoch 2/160\n",
            "118/118 [==============================] - 1s 5ms/step - loss: 2.3165 - accuracy: 0.1001\n",
            "Epoch 3/160\n",
            "118/118 [==============================] - 1s 5ms/step - loss: 2.2999 - accuracy: 0.1540\n",
            "Epoch 4/160\n",
            "118/118 [==============================] - 1s 5ms/step - loss: 2.2897 - accuracy: 0.1435\n",
            "Epoch 5/160\n",
            "118/118 [==============================] - 1s 5ms/step - loss: 2.2820 - accuracy: 0.1387\n",
            "Epoch 6/160\n",
            "118/118 [==============================] - 1s 5ms/step - loss: 2.2752 - accuracy: 0.1467\n",
            "Epoch 7/160\n",
            "118/118 [==============================] - 1s 5ms/step - loss: 2.2687 - accuracy: 0.1682\n",
            "Epoch 8/160\n",
            "118/118 [==============================] - 1s 5ms/step - loss: 2.2622 - accuracy: 0.2023\n",
            "Epoch 9/160\n",
            "118/118 [==============================] - 1s 5ms/step - loss: 2.2555 - accuracy: 0.2379\n",
            "Epoch 10/160\n",
            "118/118 [==============================] - 1s 5ms/step - loss: 2.2485 - accuracy: 0.2806\n",
            "Epoch 11/160\n",
            "118/118 [==============================] - 1s 5ms/step - loss: 2.2412 - accuracy: 0.3196\n",
            "Epoch 12/160\n",
            "118/118 [==============================] - 1s 5ms/step - loss: 2.2336 - accuracy: 0.3505\n",
            "Epoch 13/160\n",
            "118/118 [==============================] - 1s 5ms/step - loss: 2.2255 - accuracy: 0.3694\n",
            "Epoch 14/160\n",
            "118/118 [==============================] - 1s 5ms/step - loss: 2.2170 - accuracy: 0.3935\n",
            "Epoch 15/160\n",
            "118/118 [==============================] - 1s 4ms/step - loss: 2.2080 - accuracy: 0.4056\n",
            "Epoch 16/160\n",
            "118/118 [==============================] - 1s 5ms/step - loss: 2.1984 - accuracy: 0.4212\n",
            "Epoch 17/160\n",
            "118/118 [==============================] - 1s 5ms/step - loss: 2.1883 - accuracy: 0.4313\n",
            "Epoch 18/160\n",
            "118/118 [==============================] - 1s 6ms/step - loss: 2.1776 - accuracy: 0.4361\n",
            "Epoch 19/160\n",
            "118/118 [==============================] - 1s 7ms/step - loss: 2.1662 - accuracy: 0.4444\n",
            "Epoch 20/160\n",
            "118/118 [==============================] - 1s 7ms/step - loss: 2.1541 - accuracy: 0.4494\n",
            "Epoch 21/160\n",
            "118/118 [==============================] - 1s 7ms/step - loss: 2.1415 - accuracy: 0.4550\n",
            "Epoch 22/160\n",
            "118/118 [==============================] - 1s 7ms/step - loss: 2.1281 - accuracy: 0.4572\n",
            "Epoch 23/160\n",
            "118/118 [==============================] - 1s 7ms/step - loss: 2.1140 - accuracy: 0.4575\n",
            "Epoch 24/160\n",
            "118/118 [==============================] - 1s 5ms/step - loss: 2.0993 - accuracy: 0.4586\n",
            "Epoch 25/160\n",
            "118/118 [==============================] - 1s 5ms/step - loss: 2.0840 - accuracy: 0.4610\n",
            "Epoch 26/160\n",
            "118/118 [==============================] - 1s 5ms/step - loss: 2.0680 - accuracy: 0.4640\n",
            "Epoch 27/160\n",
            "118/118 [==============================] - 1s 4ms/step - loss: 2.0515 - accuracy: 0.4657\n",
            "Epoch 28/160\n",
            "118/118 [==============================] - 1s 5ms/step - loss: 2.0345 - accuracy: 0.4684\n",
            "Epoch 29/160\n",
            "118/118 [==============================] - 1s 5ms/step - loss: 2.0170 - accuracy: 0.4697\n",
            "Epoch 30/160\n",
            "118/118 [==============================] - 1s 5ms/step - loss: 1.9991 - accuracy: 0.4753\n",
            "Epoch 31/160\n",
            "118/118 [==============================] - 1s 4ms/step - loss: 1.9808 - accuracy: 0.4771\n",
            "Epoch 32/160\n",
            "118/118 [==============================] - 1s 4ms/step - loss: 1.9621 - accuracy: 0.4801\n",
            "Epoch 33/160\n",
            "118/118 [==============================] - 1s 4ms/step - loss: 1.9431 - accuracy: 0.4837\n",
            "Epoch 34/160\n",
            "118/118 [==============================] - 1s 4ms/step - loss: 1.9239 - accuracy: 0.4867\n",
            "Epoch 35/160\n",
            "118/118 [==============================] - 1s 5ms/step - loss: 1.9044 - accuracy: 0.4891\n",
            "Epoch 36/160\n",
            "118/118 [==============================] - 1s 5ms/step - loss: 1.8847 - accuracy: 0.4929\n",
            "Epoch 37/160\n",
            "118/118 [==============================] - 1s 4ms/step - loss: 1.8648 - accuracy: 0.4964\n",
            "Epoch 38/160\n",
            "118/118 [==============================] - 1s 5ms/step - loss: 1.8448 - accuracy: 0.4997\n",
            "Epoch 39/160\n",
            "118/118 [==============================] - 1s 4ms/step - loss: 1.8247 - accuracy: 0.5056\n",
            "Epoch 40/160\n",
            "118/118 [==============================] - 1s 5ms/step - loss: 1.8044 - accuracy: 0.5100\n",
            "Epoch 41/160\n",
            "118/118 [==============================] - 1s 4ms/step - loss: 1.7842 - accuracy: 0.5152\n",
            "Epoch 42/160\n",
            "118/118 [==============================] - 1s 6ms/step - loss: 1.7639 - accuracy: 0.5190\n",
            "Epoch 43/160\n",
            "118/118 [==============================] - 1s 7ms/step - loss: 1.7436 - accuracy: 0.5233\n",
            "Epoch 44/160\n",
            "118/118 [==============================] - 1s 7ms/step - loss: 1.7233 - accuracy: 0.5286\n",
            "Epoch 45/160\n",
            "118/118 [==============================] - 1s 7ms/step - loss: 1.7032 - accuracy: 0.5333\n",
            "Epoch 46/160\n",
            "118/118 [==============================] - 1s 6ms/step - loss: 1.6831 - accuracy: 0.5367\n",
            "Epoch 47/160\n",
            "118/118 [==============================] - 1s 7ms/step - loss: 1.6632 - accuracy: 0.5413\n",
            "Epoch 48/160\n",
            "118/118 [==============================] - 1s 4ms/step - loss: 1.6435 - accuracy: 0.5454\n",
            "Epoch 49/160\n",
            "118/118 [==============================] - 1s 5ms/step - loss: 1.6240 - accuracy: 0.5510\n",
            "Epoch 50/160\n",
            "118/118 [==============================] - 1s 5ms/step - loss: 1.6048 - accuracy: 0.5551\n",
            "Epoch 51/160\n",
            "118/118 [==============================] - 1s 5ms/step - loss: 1.5858 - accuracy: 0.5606\n",
            "Epoch 52/160\n",
            "118/118 [==============================] - 1s 5ms/step - loss: 1.5671 - accuracy: 0.5646\n",
            "Epoch 53/160\n",
            "118/118 [==============================] - 1s 4ms/step - loss: 1.5488 - accuracy: 0.5699\n",
            "Epoch 54/160\n",
            "118/118 [==============================] - 1s 5ms/step - loss: 1.5308 - accuracy: 0.5760\n",
            "Epoch 55/160\n",
            "118/118 [==============================] - 1s 4ms/step - loss: 1.5132 - accuracy: 0.5815\n",
            "Epoch 56/160\n",
            "118/118 [==============================] - 1s 5ms/step - loss: 1.4959 - accuracy: 0.5870\n",
            "Epoch 57/160\n",
            "118/118 [==============================] - 1s 4ms/step - loss: 1.4791 - accuracy: 0.5905\n",
            "Epoch 58/160\n",
            "118/118 [==============================] - 1s 5ms/step - loss: 1.4626 - accuracy: 0.5960\n",
            "Epoch 59/160\n",
            "118/118 [==============================] - 1s 5ms/step - loss: 1.4466 - accuracy: 0.6004\n",
            "Epoch 60/160\n",
            "118/118 [==============================] - 1s 5ms/step - loss: 1.4309 - accuracy: 0.6053\n",
            "Epoch 61/160\n",
            "118/118 [==============================] - 1s 4ms/step - loss: 1.4157 - accuracy: 0.6099\n",
            "Epoch 62/160\n",
            "118/118 [==============================] - 1s 5ms/step - loss: 1.4009 - accuracy: 0.6142\n",
            "Epoch 63/160\n",
            "118/118 [==============================] - 1s 5ms/step - loss: 1.3864 - accuracy: 0.6191\n",
            "Epoch 64/160\n",
            "118/118 [==============================] - 1s 5ms/step - loss: 1.3723 - accuracy: 0.6230\n",
            "Epoch 65/160\n",
            "118/118 [==============================] - 1s 5ms/step - loss: 1.3586 - accuracy: 0.6276\n",
            "Epoch 66/160\n",
            "118/118 [==============================] - 1s 7ms/step - loss: 1.3453 - accuracy: 0.6331\n",
            "Epoch 67/160\n",
            "118/118 [==============================] - 1s 7ms/step - loss: 1.3323 - accuracy: 0.6352\n",
            "Epoch 68/160\n",
            "118/118 [==============================] - 1s 7ms/step - loss: 1.3197 - accuracy: 0.6384\n",
            "Epoch 69/160\n",
            "118/118 [==============================] - 1s 7ms/step - loss: 1.3074 - accuracy: 0.6439\n",
            "Epoch 70/160\n",
            "118/118 [==============================] - 1s 7ms/step - loss: 1.2954 - accuracy: 0.6477\n",
            "Epoch 71/160\n",
            "118/118 [==============================] - 1s 5ms/step - loss: 1.2838 - accuracy: 0.6510\n",
            "Epoch 72/160\n",
            "118/118 [==============================] - 1s 5ms/step - loss: 1.2724 - accuracy: 0.6550\n",
            "Epoch 73/160\n",
            "118/118 [==============================] - 1s 4ms/step - loss: 1.2613 - accuracy: 0.6593\n",
            "Epoch 74/160\n",
            "118/118 [==============================] - 1s 5ms/step - loss: 1.2505 - accuracy: 0.6625\n",
            "Epoch 75/160\n",
            "118/118 [==============================] - 1s 4ms/step - loss: 1.2399 - accuracy: 0.6661\n",
            "Epoch 76/160\n",
            "118/118 [==============================] - 1s 5ms/step - loss: 1.2296 - accuracy: 0.6688\n",
            "Epoch 77/160\n",
            "118/118 [==============================] - 1s 4ms/step - loss: 1.2195 - accuracy: 0.6715\n",
            "Epoch 78/160\n",
            "118/118 [==============================] - 1s 5ms/step - loss: 1.2096 - accuracy: 0.6753\n",
            "Epoch 79/160\n",
            "118/118 [==============================] - 1s 4ms/step - loss: 1.2000 - accuracy: 0.6789\n",
            "Epoch 80/160\n",
            "118/118 [==============================] - 1s 5ms/step - loss: 1.1906 - accuracy: 0.6827\n",
            "Epoch 81/160\n",
            "118/118 [==============================] - 1s 5ms/step - loss: 1.1813 - accuracy: 0.6847\n",
            "Epoch 82/160\n",
            "118/118 [==============================] - 1s 5ms/step - loss: 1.1723 - accuracy: 0.6884\n",
            "Epoch 83/160\n",
            "118/118 [==============================] - 1s 5ms/step - loss: 1.1634 - accuracy: 0.6916\n",
            "Epoch 84/160\n",
            "118/118 [==============================] - 1s 5ms/step - loss: 1.1547 - accuracy: 0.6941\n",
            "Epoch 85/160\n",
            "118/118 [==============================] - 1s 5ms/step - loss: 1.1462 - accuracy: 0.6966\n",
            "Epoch 86/160\n",
            "118/118 [==============================] - 1s 5ms/step - loss: 1.1379 - accuracy: 0.6998\n",
            "Epoch 87/160\n",
            "118/118 [==============================] - 1s 5ms/step - loss: 1.1297 - accuracy: 0.7017\n",
            "Epoch 88/160\n",
            "118/118 [==============================] - 1s 5ms/step - loss: 1.1216 - accuracy: 0.7042\n",
            "Epoch 89/160\n",
            "118/118 [==============================] - 1s 5ms/step - loss: 1.1137 - accuracy: 0.7068\n",
            "Epoch 90/160\n",
            "118/118 [==============================] - 1s 7ms/step - loss: 1.1059 - accuracy: 0.7097\n",
            "Epoch 91/160\n",
            "118/118 [==============================] - 1s 7ms/step - loss: 1.0983 - accuracy: 0.7120\n",
            "Epoch 92/160\n",
            "118/118 [==============================] - 1s 7ms/step - loss: 1.0907 - accuracy: 0.7149\n",
            "Epoch 93/160\n",
            "118/118 [==============================] - 1s 7ms/step - loss: 1.0833 - accuracy: 0.7168\n",
            "Epoch 94/160\n",
            "118/118 [==============================] - 1s 7ms/step - loss: 1.0761 - accuracy: 0.7202\n",
            "Epoch 95/160\n",
            "118/118 [==============================] - 1s 4ms/step - loss: 1.0689 - accuracy: 0.7217\n",
            "Epoch 96/160\n",
            "118/118 [==============================] - 1s 7ms/step - loss: 1.0618 - accuracy: 0.7240\n",
            "Epoch 97/160\n",
            "118/118 [==============================] - 1s 5ms/step - loss: 1.0549 - accuracy: 0.7267\n",
            "Epoch 98/160\n",
            "118/118 [==============================] - 1s 5ms/step - loss: 1.0480 - accuracy: 0.7279\n",
            "Epoch 99/160\n",
            "118/118 [==============================] - 1s 5ms/step - loss: 1.0413 - accuracy: 0.7304\n",
            "Epoch 100/160\n",
            "118/118 [==============================] - 1s 5ms/step - loss: 1.0346 - accuracy: 0.7320\n",
            "Epoch 101/160\n",
            "118/118 [==============================] - 1s 5ms/step - loss: 1.0281 - accuracy: 0.7342\n",
            "Epoch 102/160\n",
            "118/118 [==============================] - 1s 5ms/step - loss: 1.0216 - accuracy: 0.7361\n",
            "Epoch 103/160\n",
            "118/118 [==============================] - 1s 5ms/step - loss: 1.0153 - accuracy: 0.7377\n",
            "Epoch 104/160\n",
            "118/118 [==============================] - 1s 5ms/step - loss: 1.0090 - accuracy: 0.7397\n",
            "Epoch 105/160\n",
            "118/118 [==============================] - 1s 5ms/step - loss: 1.0028 - accuracy: 0.7416\n",
            "Epoch 106/160\n",
            "118/118 [==============================] - 1s 6ms/step - loss: 0.9966 - accuracy: 0.7435\n",
            "Epoch 107/160\n",
            "118/118 [==============================] - 1s 6ms/step - loss: 0.9906 - accuracy: 0.7452\n",
            "Epoch 108/160\n",
            "118/118 [==============================] - 1s 7ms/step - loss: 0.9846 - accuracy: 0.7468\n",
            "Epoch 109/160\n",
            "118/118 [==============================] - 1s 6ms/step - loss: 0.9787 - accuracy: 0.7482\n",
            "Epoch 110/160\n",
            "118/118 [==============================] - 1s 6ms/step - loss: 0.9729 - accuracy: 0.7504\n",
            "Epoch 111/160\n",
            "118/118 [==============================] - 1s 9ms/step - loss: 0.9671 - accuracy: 0.7512\n",
            "Epoch 112/160\n",
            "118/118 [==============================] - 1s 10ms/step - loss: 0.9614 - accuracy: 0.7533\n",
            "Epoch 113/160\n",
            "118/118 [==============================] - 1s 11ms/step - loss: 0.9558 - accuracy: 0.7558\n",
            "Epoch 114/160\n",
            "118/118 [==============================] - 1s 9ms/step - loss: 0.9503 - accuracy: 0.7573\n",
            "Epoch 115/160\n",
            "118/118 [==============================] - 1s 7ms/step - loss: 0.9448 - accuracy: 0.7580\n",
            "Epoch 116/160\n",
            "118/118 [==============================] - 1s 7ms/step - loss: 0.9394 - accuracy: 0.7606\n",
            "Epoch 117/160\n",
            "118/118 [==============================] - 1s 7ms/step - loss: 0.9340 - accuracy: 0.7621\n",
            "Epoch 118/160\n",
            "118/118 [==============================] - 1s 5ms/step - loss: 0.9287 - accuracy: 0.7631\n",
            "Epoch 119/160\n",
            "118/118 [==============================] - 1s 5ms/step - loss: 0.9234 - accuracy: 0.7653\n",
            "Epoch 120/160\n",
            "118/118 [==============================] - 1s 5ms/step - loss: 0.9182 - accuracy: 0.7665\n",
            "Epoch 121/160\n",
            "118/118 [==============================] - 1s 5ms/step - loss: 0.9131 - accuracy: 0.7686\n",
            "Epoch 122/160\n",
            "118/118 [==============================] - 1s 5ms/step - loss: 0.9080 - accuracy: 0.7699\n",
            "Epoch 123/160\n",
            "118/118 [==============================] - 1s 5ms/step - loss: 0.9030 - accuracy: 0.7712\n",
            "Epoch 124/160\n",
            "118/118 [==============================] - 1s 5ms/step - loss: 0.8980 - accuracy: 0.7728\n",
            "Epoch 125/160\n",
            "118/118 [==============================] - 1s 5ms/step - loss: 0.8931 - accuracy: 0.7745\n",
            "Epoch 126/160\n",
            "118/118 [==============================] - 1s 5ms/step - loss: 0.8882 - accuracy: 0.7759\n",
            "Epoch 127/160\n",
            "118/118 [==============================] - 1s 5ms/step - loss: 0.8833 - accuracy: 0.7774\n",
            "Epoch 128/160\n",
            "118/118 [==============================] - 1s 5ms/step - loss: 0.8785 - accuracy: 0.7795\n",
            "Epoch 129/160\n",
            "118/118 [==============================] - 1s 5ms/step - loss: 0.8738 - accuracy: 0.7805\n",
            "Epoch 130/160\n",
            "118/118 [==============================] - 1s 5ms/step - loss: 0.8691 - accuracy: 0.7817\n",
            "Epoch 131/160\n",
            "118/118 [==============================] - 1s 4ms/step - loss: 0.8644 - accuracy: 0.7834\n",
            "Epoch 132/160\n",
            "118/118 [==============================] - 1s 5ms/step - loss: 0.8598 - accuracy: 0.7842\n",
            "Epoch 133/160\n",
            "118/118 [==============================] - 1s 5ms/step - loss: 0.8552 - accuracy: 0.7859\n",
            "Epoch 134/160\n",
            "118/118 [==============================] - 1s 5ms/step - loss: 0.8507 - accuracy: 0.7871\n",
            "Epoch 135/160\n",
            "118/118 [==============================] - 1s 7ms/step - loss: 0.8462 - accuracy: 0.7887\n",
            "Epoch 136/160\n",
            "118/118 [==============================] - 1s 7ms/step - loss: 0.8418 - accuracy: 0.7895\n",
            "Epoch 137/160\n",
            "118/118 [==============================] - 1s 7ms/step - loss: 0.8373 - accuracy: 0.7912\n",
            "Epoch 138/160\n",
            "118/118 [==============================] - 1s 7ms/step - loss: 0.8330 - accuracy: 0.7929\n",
            "Epoch 139/160\n",
            "118/118 [==============================] - 1s 7ms/step - loss: 0.8286 - accuracy: 0.7944\n",
            "Epoch 140/160\n",
            "118/118 [==============================] - 1s 7ms/step - loss: 0.8243 - accuracy: 0.7957\n",
            "Epoch 141/160\n",
            "118/118 [==============================] - 1s 5ms/step - loss: 0.8200 - accuracy: 0.7972\n",
            "Epoch 142/160\n",
            "118/118 [==============================] - 1s 5ms/step - loss: 0.8158 - accuracy: 0.7983\n",
            "Epoch 143/160\n",
            "118/118 [==============================] - 1s 5ms/step - loss: 0.8116 - accuracy: 0.7995\n",
            "Epoch 144/160\n",
            "118/118 [==============================] - 1s 5ms/step - loss: 0.8075 - accuracy: 0.8007\n",
            "Epoch 145/160\n",
            "118/118 [==============================] - 1s 5ms/step - loss: 0.8034 - accuracy: 0.8025\n",
            "Epoch 146/160\n",
            "118/118 [==============================] - 1s 5ms/step - loss: 0.7993 - accuracy: 0.8041\n",
            "Epoch 147/160\n",
            "118/118 [==============================] - 1s 5ms/step - loss: 0.7952 - accuracy: 0.8052\n",
            "Epoch 148/160\n",
            "118/118 [==============================] - 1s 5ms/step - loss: 0.7912 - accuracy: 0.8066\n",
            "Epoch 149/160\n",
            "118/118 [==============================] - 1s 5ms/step - loss: 0.7872 - accuracy: 0.8076\n",
            "Epoch 150/160\n",
            "118/118 [==============================] - 1s 5ms/step - loss: 0.7832 - accuracy: 0.8090\n",
            "Epoch 151/160\n",
            "118/118 [==============================] - 1s 5ms/step - loss: 0.7793 - accuracy: 0.8095\n",
            "Epoch 152/160\n",
            "118/118 [==============================] - 1s 5ms/step - loss: 0.7754 - accuracy: 0.8113\n",
            "Epoch 153/160\n",
            "118/118 [==============================] - 1s 5ms/step - loss: 0.7715 - accuracy: 0.8124\n",
            "Epoch 154/160\n",
            "118/118 [==============================] - 1s 5ms/step - loss: 0.7677 - accuracy: 0.8136\n",
            "Epoch 155/160\n",
            "118/118 [==============================] - 1s 5ms/step - loss: 0.7639 - accuracy: 0.8144\n",
            "Epoch 156/160\n",
            "118/118 [==============================] - 1s 5ms/step - loss: 0.7601 - accuracy: 0.8155\n",
            "Epoch 157/160\n",
            "118/118 [==============================] - 1s 5ms/step - loss: 0.7563 - accuracy: 0.8169\n",
            "Epoch 158/160\n",
            "118/118 [==============================] - 1s 5ms/step - loss: 0.7526 - accuracy: 0.8177\n",
            "Epoch 159/160\n",
            "118/118 [==============================] - 1s 7ms/step - loss: 0.7489 - accuracy: 0.8193\n",
            "Epoch 160/160\n",
            "118/118 [==============================] - 1s 7ms/step - loss: 0.7453 - accuracy: 0.8204\n"
          ]
        },
        {
          "output_type": "execute_result",
          "data": {
            "text/plain": [
              "<keras.callbacks.History at 0x7f50587a5100>"
            ]
          },
          "metadata": {},
          "execution_count": 19
        }
      ]
    },
    {
      "cell_type": "code",
      "source": [
        "test_loss, test_acc = network.evaluate(test_images, test_labels)\n",
        "print('Test Accuracy: {:.5f} '.format(test_acc))\n",
        "test_acc\n"
      ],
      "metadata": {
        "colab": {
          "base_uri": "https://localhost:8080/"
        },
        "id": "euEDASRNm1Ay",
        "outputId": "3e921f9a-a24b-4e2c-dec8-5ae62346d4c8"
      },
      "execution_count": 20,
      "outputs": [
        {
          "output_type": "stream",
          "name": "stdout",
          "text": [
            "313/313 [==============================] - 1s 2ms/step - loss: 0.7296 - accuracy: 0.8220\n",
            "Test Accuracy: 0.82200 \n"
          ]
        },
        {
          "output_type": "execute_result",
          "data": {
            "text/plain": [
              "0.8220000267028809"
            ]
          },
          "metadata": {},
          "execution_count": 20
        }
      ]
    },
    {
      "cell_type": "code",
      "source": [
        "from keras.utils import plot_model\n",
        "plot_model(network, to_file='model.png')\n",
        "import matplotlib.pyplot as plt\n",
        "history =network.fit(train_images, train_labels, validation_split=0.33,epochs=5, batch_size=512)\n",
        "history_dict = history.history\n",
        "print(history_dict.keys())\n",
        "plt.plot(history.history['accuracy'])\n",
        "plt.plot(history.history['val_accuracy'])\n",
        "plt.title('Model accuracy')\n",
        "plt.ylabel('Accuracy')\n",
        "plt.xlabel('Epoch')\n",
        "plt.legend(['Train', 'Test'], loc='upper left')\n",
        "plt.show()\n",
        "\n",
        "\n",
        "# Plot training & validation loss values\n",
        "plt.plot(history.history['loss'])\n",
        "plt.plot(history.history['val_loss'])\n",
        "plt.title('Model loss')\n",
        "plt.ylabel('Loss')\n",
        "plt.xlabel('Epoch')\n",
        "plt.legend(['Train', 'Test'], loc='upper left')\n",
        "plt.show()\n"
      ],
      "metadata": {
        "colab": {
          "base_uri": "https://localhost:8080/",
          "height": 776
        },
        "id": "7tDqBplnm3wB",
        "outputId": "ef63b0ea-2ef6-4080-bbc9-d0985545f6dc"
      },
      "execution_count": 21,
      "outputs": [
        {
          "output_type": "stream",
          "name": "stdout",
          "text": [
            "Epoch 1/5\n",
            "79/79 [==============================] - 2s 29ms/step - loss: 0.7462 - accuracy: 0.8190 - val_loss: 0.7329 - val_accuracy: 0.8252\n",
            "Epoch 2/5\n",
            "79/79 [==============================] - 1s 16ms/step - loss: 0.7437 - accuracy: 0.8205 - val_loss: 0.7306 - val_accuracy: 0.8266\n",
            "Epoch 3/5\n",
            "79/79 [==============================] - 1s 19ms/step - loss: 0.7413 - accuracy: 0.8210 - val_loss: 0.7282 - val_accuracy: 0.8273\n",
            "Epoch 4/5\n",
            "79/79 [==============================] - 1s 12ms/step - loss: 0.7389 - accuracy: 0.8217 - val_loss: 0.7259 - val_accuracy: 0.8276\n",
            "Epoch 5/5\n",
            "79/79 [==============================] - 1s 15ms/step - loss: 0.7364 - accuracy: 0.8222 - val_loss: 0.7236 - val_accuracy: 0.8282\n",
            "dict_keys(['loss', 'accuracy', 'val_loss', 'val_accuracy'])\n"
          ]
        },
        {
          "output_type": "display_data",
          "data": {
            "text/plain": [
              "<Figure size 432x288 with 1 Axes>"
            ],
            "image/png": "[encoded data removed]"
          },
          "metadata": {
            "needs_background": "light"
          }
        },
        {
          "output_type": "display_data",
          "data": {
            "text/plain": [
              "<Figure size 432x288 with 1 Axes>"
            ],
            "image/png": "[encoded data removed]"
          },
          "metadata": {
            "needs_background": "light"
          }
        }
      ]
    }
  ]
}